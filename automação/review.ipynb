{
 "cells": [
  {
   "cell_type": "code",
   "execution_count": null,
   "metadata": {},
   "outputs": [],
   "source": [
    "import pyautogui"
   ]
  },
  {
   "cell_type": "code",
   "execution_count": 19,
   "metadata": {},
   "outputs": [],
   "source": [
    "position = { 'x': 1228, 'y': 498 }\n",
    "ticket_link = 'https://smarters.atlassian.net/jira/software/projects/UN/boards/123?selectedIssue=UN-42'\n",
    "project_path = 'clipo-horse/clipo-horse-backend'\n",
    "feature_branch = 'CH-499'\n",
    "target_branch = 'master'"
   ]
  },
  {
   "cell_type": "code",
   "execution_count": 20,
   "metadata": {},
   "outputs": [],
   "source": [
    "# Abre o navegador\n",
    "pyautogui.press('winleft', interval=1.5)\n",
    "pyautogui.typewrite('chrome', interval=0.15)\n",
    "pyautogui.press('enter', interval=0.5)\n",
    "pyautogui.moveTo(position['x'], position['y'])\n",
    "pyautogui.click(interval=0.5)"
   ]
  },
  {
   "cell_type": "code",
   "execution_count": null,
   "metadata": {},
   "outputs": [],
   "source": [
    "# Copia o nome da tarefa\n",
    "pyautogui.hotkey('ctrl', 't', interval=0.1)\n",
    "pyautogui.typewrite(ticket_link, interval=0.01)\n",
    "pyautogui.press('enter', interval=6)\n",
    "pyautogui.press('tab', interval=0.1)\n",
    "pyautogui.press('enter', interval=0.5)\n",
    "pyautogui.hotkey('ctrl', 'a', interval=0.1)\n",
    "pyautogui.hotkey('ctrl', 'c', interval=0.1)\n",
    "pyautogui.hotkey('ctrl', 'w', interval=0.1)"
   ]
  },
  {
   "cell_type": "code",
   "execution_count": null,
   "metadata": {},
   "outputs": [],
   "source": [
    "pyautogui.hotkey('ctrl', 't', interval=0.1)\n",
    "pyautogui.typewrite('https://gitlab.com/smart-innovation/' + project_path, interval=0.01)\n",
    "pyautogui.press('enter', interval=4)\n",
    "pyautogui.press('tab', interval=0.2, presses=18)\n",
    "pyautogui.press('enter', interval=1)\n",
    "pyautogui.press('tab', interval=0.1)\n",
    "pyautogui.press('enter', interval=1.5)\n",
    "pyautogui.press('tab', interval=0.1)\n",
    "pyautogui.press('enter', interval=1.5)\n",
    "pyautogui.press('tab', interval=0.1, presses=6)\n",
    "pyautogui.press('enter', interval=1.5)\n",
    "pyautogui.press('tab', interval=0.1)\n",
    "pyautogui.press('enter', interval=1.5)\n",
    "pyautogui.press('tab', interval=0.1, presses=2)\n",
    "pyautogui.press('enter', interval=1.5)\n",
    "pyautogui.typewrite(feature_branch, interval=0.1)\n",
    "pyautogui.sleep(1)\n",
    "pyautogui.press('down', interval=1)\n",
    "pyautogui.press('enter', interval=1)"
   ]
  }
 ],
 "metadata": {
  "kernelspec": {
   "display_name": "Python 3",
   "language": "python",
   "name": "python3"
  },
  "language_info": {
   "codemirror_mode": {
    "name": "ipython",
    "version": 3
   },
   "file_extension": ".py",
   "mimetype": "text/x-python",
   "name": "python",
   "nbconvert_exporter": "python",
   "pygments_lexer": "ipython3",
   "version": "3.8.10"
  },
  "orig_nbformat": 4
 },
 "nbformat": 4,
 "nbformat_minor": 2
}

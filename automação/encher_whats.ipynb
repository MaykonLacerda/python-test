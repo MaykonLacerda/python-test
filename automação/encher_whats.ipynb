{
 "cells": [
  {
   "cell_type": "code",
   "execution_count": 4,
   "metadata": {},
   "outputs": [],
   "source": [
    "import pyautogui\n",
    "import time"
   ]
  },
  {
   "cell_type": "code",
   "execution_count": 5,
   "metadata": {},
   "outputs": [],
   "source": [
    "pyautogui.press('winleft', interval=1.5)\n",
    "pyautogui.typewrite('chrome', interval=0.15)\n",
    "pyautogui.press('enter', interval=0.5)\n",
    "pyautogui.moveTo(698, 703)\n",
    "pyautogui.click(interval=0.5)\n",
    "pyautogui.typewrite('https://web.whatsapp.com/', interval=0.05)  \n",
    "pyautogui.press('enter', interval=4.5)\n",
    "pyautogui.press('tab', interval=0.1, presses=6)\n",
    "pyautogui.typewrite('Meu', interval=0.15)\n",
    "pyautogui.press('down', interval=1)\n",
    "pyautogui.press('enter', interval=0.05)"
   ]
  },
  {
   "cell_type": "code",
   "execution_count": 6,
   "metadata": {},
   "outputs": [],
   "source": [
    "num_repeticoes = 5\n",
    "intervalo_entre_repeticoes = 2\n",
    "\n",
    "for _ in range(num_repeticoes):\n",
    "    pyautogui.typewrite('Teste', interval=0.05)\n",
    "    pyautogui.press('enter', interval=0.5)\n",
    "\n",
    "    # Aguarde o intervalo especificado entre as repetições\n",
    "    time.sleep(intervalo_entre_repeticoes)"
   ]
  }
 ],
 "metadata": {
  "kernelspec": {
   "display_name": "Python 3",
   "language": "python",
   "name": "python3"
  },
  "language_info": {
   "codemirror_mode": {
    "name": "ipython",
    "version": 3
   },
   "file_extension": ".py",
   "mimetype": "text/x-python",
   "name": "python",
   "nbconvert_exporter": "python",
   "pygments_lexer": "ipython3",
   "version": "3.8.10"
  },
  "orig_nbformat": 4
 },
 "nbformat": 4,
 "nbformat_minor": 2
}
